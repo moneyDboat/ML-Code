{
 "cells": [
  {
   "cell_type": "code",
   "execution_count": 32,
   "metadata": {
    "collapsed": true
   },
   "outputs": [],
   "source": [
    "import xlrd\n",
    "from zipfile import ZipFile\n",
    "datafile = \"2013_ERCOT_Hourly_Load_Data.xls\""
   ]
  },
  {
   "cell_type": "code",
   "execution_count": 33,
   "metadata": {
    "collapsed": true
   },
   "outputs": [],
   "source": [
    "def open_zip(datafile):\n",
    "    with ZipFile('{0}.zip'.format(datafile), 'r') as myzip:\n",
    "        myzip.extractall()"
   ]
  },
  {
   "cell_type": "code",
   "execution_count": 34,
   "metadata": {
    "collapsed": false
   },
   "outputs": [],
   "source": [
    "workbook = xlrd.open_workbook(datafile)\n",
    "sheet = workbook.sheet_by_index(0)\n",
    "sheet_data = [[sheet.cell_value(r,col) for col in range(sheet.ncols)] \n",
    "              for r in range(sheet.nrows)]\n",
    "data = {}\n",
    "maxTime = max(row[0] for row in sheet_data[1:])\n",
    "minTime = min(row[0] for row in sheet_data[1:])\n",
    "data['maxtime'] = xlrd.xldate_as_tuple(maxTime,0)\n",
    "data['mintime'] = xlrd.xldate_as_tuple(minTime,0)\n",
    "data['maxvalue'] = max(row[1] for row in sheet_data[1:])\n",
    "data['minvalue'] = min(row[1] for row in sheet_data[1:])\n",
    "sum = 0\n",
    "for i,value in enumerate(row[1] for row in sheet_data[1:]):\n",
    "     sum += value\n",
    "data['avgcoast'] = sum/len(sheet_data[1][1:])"
   ]
  },
  {
   "cell_type": "code",
   "execution_count": 50,
   "metadata": {
    "collapsed": false
   },
   "outputs": [
    {
     "name": "stdout",
     "output_type": "stream",
     "text": [
      "['745090', 'MOUNTAIN VIEW MOFFETT FLD NAS', 'CA', '-8.0', '37.400', '-122.050', '12']\n"
     ]
    }
   ],
   "source": [
    "import csv\n",
    "import os\n",
    "\n",
    "DATADIR = \"\"\n",
    "DATAFILE = \"745090.csv\"\n",
    "name = \"\"\n",
    "data = []\n",
    "\n",
    "with open(DATAFILE) as f:\n",
    "    data = csv.reader(f)\n",
    "    a = []\n",
    "    print(next(data))\n",
    "    next(data)\n",
    "    for line in data:\n",
    "        a.append(line)"
   ]
  },
  {
   "cell_type": "code",
   "execution_count": 97,
   "metadata": {
    "collapsed": false
   },
   "outputs": [
    {
     "name": "stdout",
     "output_type": "stream",
     "text": [
      "{'COAST': {'maxtime': (2013, 8, 13, 17, 0, 0), 'maxval': 18770.166858114047}, 'NORTH': {'maxtime': (2013, 8, 7, 17, 0, 0), 'maxval': 1483.472824802055}, 'SOUTH_C': {'maxtime': (2013, 8, 8, 18, 0, 0), 'maxval': 11432.810233063548}, 'WEST': {'maxtime': (2013, 8, 7, 17, 0, 0), 'maxval': 1862.3039479706376}, 'EAST': {'maxtime': (2013, 8, 5, 17, 0, 0), 'maxval': 2379.3415594793}, 'NORTH_C': {'maxtime': (2013, 8, 7, 18, 0, 0), 'maxval': 24420.68966317462}, 'FAR_WEST': {'maxtime': (2013, 6, 26, 17, 0, 0), 'maxval': 2278.6711525877968}, 'SOUTHERN': {'maxtime': (2013, 8, 8, 16, 0, 0), 'maxval': 5206.733253003189}}\n"
     ]
    }
   ],
   "source": [
    "workbook = xlrd.open_workbook(datafile)\n",
    "sheet = workbook.sheet_by_index(0)\n",
    "sheet_data = [[sheet.cell_value(r,col) for col in range(sheet.ncols)] \n",
    "              for r in range(sheet.nrows)]\n",
    "data = {}\n",
    "for col in range(1,sheet.ncols-1):\n",
    "    cv = sheet.col_values(col,start_rowx=1,end_rowx=None)\n",
    "    maxLoad = max(cv)\n",
    "    index = cv.index(maxLoad)+1\n",
    "    data[sheet_data[0][col]]={'maxval':maxLoad,\n",
    "                             'maxtime':xlrd.xldate_as_tuple(sheet_data[index][0], 0)}\n",
    "print(data)\n",
    "with open('test.csv','w') as f:\n",
    "    csvWriter = csv.writer(f,delimiter='|')\n",
    "    csvWriter.writerow([\"Station\", \"Year\", \"Month\", \"Day\", \"Hour\", \"Max Load\"])\n",
    "    for s in data:\n",
    "        year, month, day, hour, _ , _= data[s][\"maxtime\"]\n",
    "        csvWriter.writerow([s, year, month, day, hour, data[s][\"maxval\"]])"
   ]
  },
  {
   "cell_type": "code",
   "execution_count": 98,
   "metadata": {
    "collapsed": false
   },
   "outputs": [
    {
     "name": "stdout",
     "output_type": "stream",
     "text": [
      "COAST\n",
      "NORTH\n",
      "SOUTH_C\n",
      "WEST\n",
      "EAST\n",
      "NORTH_C\n",
      "FAR_WEST\n",
      "SOUTHERN\n"
     ]
    }
   ],
   "source": [
    "with open('test.csv') as f:\n",
    "    csvfile = csv.DictReader(f,delimiter='|')\n",
    "    for line in csvfile:\n",
    "        station = line['Station']\n",
    "        print(station)"
   ]
  },
  {
   "cell_type": "code",
   "execution_count": 106,
   "metadata": {
    "collapsed": false
   },
   "outputs": [
    {
     "name": "stdout",
     "output_type": "stream",
     "text": [
      "{'name': 'qian', 'price': 542, 'shares': 100}\n",
      "'{\"shares\": 100, \"price\": 542, \"name\": \"qian\"}'\n",
      "{'name': 'qian', 'price': 542, 'shares': 100}\n"
     ]
    }
   ],
   "source": [
    "import json \n",
    "from pprint import pprint\n",
    "data = {\n",
    "    'name' : 'qian',\n",
    "    'shares':100,\n",
    "    'price':542\n",
    "}\n",
    "json_str=json.dumps(data)\n",
    "pprint(json_str)\n",
    "pprint(json.loads(json_str))"
   ]
  },
  {
   "cell_type": "code",
   "execution_count": 1,
   "metadata": {
    "collapsed": true
   },
   "outputs": [],
   "source": [
    "import musicbrainz\n",
    "BASE_URL = \"http://musicbrainz.org/ws/2/\"\n",
    "ARTIST_URL = BASE_URL + \"artist/\"\n",
    "results = musicbrainz.query_by_name(ARTI)"
   ]
  },
  {
   "cell_type": "code",
   "execution_count": null,
   "metadata": {
    "collapsed": true
   },
   "outputs": [],
   "source": []
  }
 ],
 "metadata": {
  "anaconda-cloud": {},
  "kernelspec": {
   "display_name": "Python [conda root]",
   "language": "python",
   "name": "conda-root-py"
  },
  "language_info": {
   "codemirror_mode": {
    "name": "ipython",
    "version": 3
   },
   "file_extension": ".py",
   "mimetype": "text/x-python",
   "name": "python",
   "nbconvert_exporter": "python",
   "pygments_lexer": "ipython3",
   "version": "3.5.2"
  }
 },
 "nbformat": 4,
 "nbformat_minor": 1
}
