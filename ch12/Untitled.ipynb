{
 "cells": [
  {
   "cell_type": "markdown",
   "metadata": {},
   "source": [
    "# 使用FP-growth算法来高效发现频繁项集"
   ]
  },
  {
   "cell_type": "markdown",
   "metadata": {},
   "source": [
    "## 构建FP树"
   ]
  },
  {
   "cell_type": "markdown",
   "metadata": {},
   "source": [
    "### 创建一个包含两个子节点的单节点，disp()用于展示 "
   ]
  },
  {
   "cell_type": "code",
   "execution_count": 93,
   "metadata": {
    "collapsed": false
   },
   "outputs": [
    {
     "name": "stdout",
     "output_type": "stream",
     "text": [
      "   pyramid   9\n",
      "     eye   13\n",
      "     phoenix   3\n"
     ]
    }
   ],
   "source": [
    "import fpGrowth\n",
    "from imp import reload \n",
    "reload(fpGrowth)\n",
    "rootNode = fpGrowth.treeNode('pyramid',9,None)\n",
    "rootNode.children['eye']=fpGrowth.treeNode('eye',13,None)\n",
    "rootNode.children['phoenix']=fpGrowth.treeNode('phoenix',3,None)\n",
    "rootNode.disp()"
   ]
  },
  {
   "cell_type": "markdown",
   "metadata": {},
   "source": [
    "### 导入数据，并进行初始化处理"
   ]
  },
  {
   "cell_type": "code",
   "execution_count": 94,
   "metadata": {
    "collapsed": false
   },
   "outputs": [
    {
     "data": {
      "text/plain": [
       "[['r', 'z', 'h', 'j', 'p'],\n",
       " ['z', 'y', 'x', 'w', 'v', 'u', 't', 's'],\n",
       " ['z'],\n",
       " ['r', 'x', 'n', 'o', 's'],\n",
       " ['y', 'r', 'x', 'z', 'q', 't', 'p'],\n",
       " ['y', 'z', 'x', 'e', 'q', 's', 't', 'm']]"
      ]
     },
     "execution_count": 94,
     "metadata": {},
     "output_type": "execute_result"
    }
   ],
   "source": [
    "simpDat = fpGrowth.loadSimpDat()\n",
    "initSet = fpGrowth.createInitSet(simpDat)\n",
    "simpDat"
   ]
  },
  {
   "cell_type": "code",
   "execution_count": 117,
   "metadata": {
    "collapsed": false
   },
   "outputs": [
    {
     "name": "stdout",
     "output_type": "stream",
     "text": [
      "Wall time: 0 ns\n",
      "Wall time: 0 ns\n"
     ]
    }
   ],
   "source": [
    "list(initSet)"
   ]
  },
  {
   "cell_type": "markdown",
   "metadata": {},
   "source": [
    "### 构建FP树"
   ]
  },
  {
   "cell_type": "code",
   "execution_count": 101,
   "metadata": {
    "collapsed": false
   },
   "outputs": [
    {
     "name": "stdout",
     "output_type": "stream",
     "text": [
      "['z', 'x', 's', 't', 'y']\n",
      "[('x', 4), ('s', 3), ('t', 3), ('z', 5), ('y', 3)]\n",
      "['z', 'x', 'r', 't', 'y']\n",
      "[('z', 5), ('r', 3), ('t', 3), ('x', 4), ('y', 3)]\n",
      "['x', 's', 'r']\n",
      "[('s', 3), ('x', 4), ('r', 3)]\n",
      "['z', 'x', 't', 's', 'y']\n",
      "[('x', 4), ('z', 5), ('t', 3), ('s', 3), ('y', 3)]\n",
      "['z', 'r']\n",
      "[('z', 5), ('r', 3)]\n",
      "['z']\n",
      "[('z', 5)]\n",
      "   Null Set   1 None\n",
      "     z   5 None\n",
      "       x   3 <fpGrowth.treeNode object at 0x0000025A28FC0400>\n",
      "         s   1 <fpGrowth.treeNode object at 0x0000025A28FC03C8>\n",
      "           t   1 <fpGrowth.treeNode object at 0x0000025A28FC0630>\n",
      "             y   1 <fpGrowth.treeNode object at 0x0000025A28FC06A0>\n",
      "         t   1 None\n",
      "           s   1 None\n",
      "             y   1 None\n",
      "         r   1 <fpGrowth.treeNode object at 0x0000025A28FC0438>\n",
      "           t   1 <fpGrowth.treeNode object at 0x0000025A28FC04A8>\n",
      "             y   1 <fpGrowth.treeNode object at 0x0000025A28FC04E0>\n",
      "       r   1 None\n",
      "     x   1 None\n",
      "       s   1 <fpGrowth.treeNode object at 0x0000025A28FC0470>\n",
      "         r   1 <fpGrowth.treeNode object at 0x0000025A28FC0588>\n"
     ]
    },
    {
     "data": {
      "text/plain": [
       "<fpGrowth.treeNode at 0x25a28fba978>"
      ]
     },
     "execution_count": 101,
     "metadata": {},
     "output_type": "execute_result"
    }
   ],
   "source": [
    "from imp import reload\n",
    "reload(fpGrowth)\n",
    "myFPtree, myHeaderTab = fpGrowth.createTree(initSet,3)\n",
    "myFPtree.disp()\n",
    "myFPtree"
   ]
  },
  {
   "cell_type": "markdown",
   "metadata": {},
   "source": [
    "### 抽取条件模式基"
   ]
  },
  {
   "cell_type": "code",
   "execution_count": 106,
   "metadata": {
    "collapsed": false
   },
   "outputs": [
    {
     "name": "stdout",
     "output_type": "stream",
     "text": [
      "frozenset({'z', 's', 't', 'x'})\n",
      "frozenset({'z', 't', 'x', 'r'})\n",
      "frozenset({'z', 's', 't', 'x'})\n"
     ]
    },
    {
     "data": {
      "text/plain": [
       "{frozenset({'r', 't', 'x', 'z'}): 1, frozenset({'s', 't', 'x', 'z'}): 1}"
      ]
     },
     "execution_count": 106,
     "metadata": {},
     "output_type": "execute_result"
    }
   ],
   "source": [
    "from imp import reload\n",
    "reload(fpGrowth)\n",
    "fpGrowth.findPrefixPath('r',myHeaderTab['y'][1])"
   ]
  },
  {
   "cell_type": "markdown",
   "metadata": {},
   "source": [
    "### 构建条件FP树"
   ]
  },
  {
   "cell_type": "code",
   "execution_count": 98,
   "metadata": {
    "collapsed": false
   },
   "outputs": [
    {
     "name": "stdout",
     "output_type": "stream",
     "text": [
      "['x']\n",
      "[('x', 3)]\n",
      "['x']\n",
      "[('x', 3)]\n",
      "['x']\n",
      "[('x', 3)]\n",
      "conditional tree for:  {'s'}\n",
      "   Null Set   1\n",
      "     x   3\n",
      "['z', 'x']\n",
      "[('z', 3), ('x', 3)]\n",
      "['z', 'x']\n",
      "[('z', 3), ('x', 3)]\n",
      "['z', 'x']\n",
      "[('z', 3), ('x', 3)]\n",
      "conditional tree for:  {'t'}\n",
      "   Null Set   1\n",
      "     z   3\n",
      "       x   3\n",
      "['z']\n",
      "[('z', 3)]\n",
      "conditional tree for:  {'t', 'x'}\n",
      "   Null Set   1\n",
      "     z   3\n",
      "['z']\n",
      "[('z', 3)]\n",
      "conditional tree for:  {'x'}\n",
      "   Null Set   1\n",
      "     z   3\n"
     ]
    },
    {
     "data": {
      "text/plain": [
       "[{'s'},\n",
       " {'s', 'x'},\n",
       " {'r'},\n",
       " {'t'},\n",
       " {'t', 'z'},\n",
       " {'t', 'x'},\n",
       " {'t', 'x', 'z'},\n",
       " {'y'},\n",
       " {'x'},\n",
       " {'x', 'z'},\n",
       " {'z'}]"
      ]
     },
     "execution_count": 98,
     "metadata": {},
     "output_type": "execute_result"
    }
   ],
   "source": [
    "freqItems = []\n",
    "fpGrowth.mineTree(myFPtree,myHeaderTab,3,set([]),freqItems)\n",
    "freqItems"
   ]
  },
  {
   "cell_type": "markdown",
   "metadata": {},
   "source": [
    "## 示例：从新闻站点点击流中挖掘"
   ]
  },
  {
   "cell_type": "markdown",
   "metadata": {},
   "source": [
    "### 从kosarak.dat读取100万条记录"
   ]
  },
  {
   "cell_type": "code",
   "execution_count": 128,
   "metadata": {
    "collapsed": false
   },
   "outputs": [
    {
     "name": "stdout",
     "output_type": "stream",
     "text": [
      "Wall time: 2.82 s\n"
     ]
    },
    {
     "data": {
      "text/plain": [
       "[['1', '2', '3'],\n",
       " ['1'],\n",
       " ['4', '5', '6', '7'],\n",
       " ['1', '8'],\n",
       " ['9', '10'],\n",
       " ['11', '6', '12', '13', '14', '15', '16'],\n",
       " ['1', '3', '7'],\n",
       " ['17', '18'],\n",
       " ['11', '6', '19', '20', '21', '22', '23', '24'],\n",
       " ['1', '25', '3']]"
      ]
     },
     "execution_count": 128,
     "metadata": {},
     "output_type": "execute_result"
    }
   ],
   "source": [
    "from imp import reload\n",
    "reload(fpGrowth)\n",
    "%time parsedDat = [line.split() for line in open('kosarak.dat').readlines()]\n",
    "parsedDat[:10]"
   ]
  },
  {
   "cell_type": "markdown",
   "metadata": {},
   "source": [
    "### 构建FP树，只用了几秒，足见算法威力 "
   ]
  },
  {
   "cell_type": "code",
   "execution_count": null,
   "metadata": {
    "collapsed": false
   },
   "outputs": [
    {
     "name": "stdout",
     "output_type": "stream",
     "text": [
      "Wall time: 4.18 s\n"
     ]
    }
   ],
   "source": [
    "%time initSet = fpGrowth.createInitSet(parsedDat)\n",
    "%time myFPtree, myHeaderTab = fpGrowth.createTree(initSet,10000)\n",
    "myHeaderTab"
   ]
  },
  {
   "cell_type": "markdown",
   "metadata": {},
   "source": [
    "### 条件FP树的构建只用了1毫秒，查看频繁项集 "
   ]
  },
  {
   "cell_type": "code",
   "execution_count": 123,
   "metadata": {
    "collapsed": false
   },
   "outputs": [
    {
     "name": "stdout",
     "output_type": "stream",
     "text": [
      "conditional tree for:  {'1'}\n",
      "   Null Set   1 None\n",
      "     6   107404 None\n",
      "conditional tree for:  {'3'}\n",
      "   Null Set   1 None\n",
      "     11   9718 None\n",
      "     6   186289 None\n",
      "       11   117401 <fpGrowth.treeNode object at 0x0000025A4BC1A8D0>\n",
      "conditional tree for:  {'11', '3'}\n",
      "   Null Set   1 None\n",
      "     6   117401 None\n",
      "conditional tree for:  {'11'}\n",
      "   Null Set   1 None\n",
      "     6   261773 None\n",
      "Wall time: 1 ms\n"
     ]
    },
    {
     "data": {
      "text/plain": [
       "[{'1'},\n",
       " {'1', '6'},\n",
       " {'3'},\n",
       " {'11', '3'},\n",
       " {'11', '3', '6'},\n",
       " {'3', '6'},\n",
       " {'11'},\n",
       " {'11', '6'},\n",
       " {'6'}]"
      ]
     },
     "execution_count": 123,
     "metadata": {},
     "output_type": "execute_result"
    }
   ],
   "source": [
    "myFreqList = []\n",
    "%time fpGrowth.mineTree(myFPtree,myHeaderTab,100000,set([]),myFreqList)\n",
    "len(myFreqList)\n",
    "myFreqList"
   ]
  }
 ],
 "metadata": {
  "anaconda-cloud": {},
  "kernelspec": {
   "display_name": "Python [conda root]",
   "language": "python",
   "name": "conda-root-py"
  },
  "language_info": {
   "codemirror_mode": {
    "name": "ipython",
    "version": 3
   },
   "file_extension": ".py",
   "mimetype": "text/x-python",
   "name": "python",
   "nbconvert_exporter": "python",
   "pygments_lexer": "ipython3",
   "version": "3.5.2"
  }
 },
 "nbformat": 4,
 "nbformat_minor": 1
}
